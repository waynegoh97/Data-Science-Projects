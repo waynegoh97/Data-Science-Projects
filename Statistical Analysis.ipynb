{
 "cells": [
  {
   "attachments": {},
   "cell_type": "markdown",
   "metadata": {},
   "source": [
    "# Statistical Analysis Definition\n",
    "### Investigate trends, patterns, and relationships using quantitative data\n",
    "\n",
    "## Steps in Statistical Analysis\n",
    "#### 1. State hypotheses and make decision on research design, sample size and sampling procedure\n",
    "#### 2. Collect data\n",
    "#### 3. Use Descriptive Statistics to organize and summarize data\n",
    "#### 4. Use Inferential Statistics to test hypotheses and make estimates\n",
    "#### 5. Interpret and generalize your findings"
   ]
  },
  {
   "attachments": {},
   "cell_type": "markdown",
   "metadata": {},
   "source": [
    "# Causal Research Question\n",
    "#### Q: Can meditation improve exam performance in teenagers?\n",
    "\n",
    "# Correlational Research Question\n",
    "#### Q: Is there a relationship between parental income and GPA of student?"
   ]
  },
  {
   "cell_type": "code",
   "execution_count": null,
   "metadata": {},
   "outputs": [],
   "source": [
    "# Causal Research Question (cause and effect)\n",
    "    # Null Hypotheses: A 5 minute meditation will have no effect on math test scores for teenagers\n",
    "    # Alternative Hypotheses: A 5 minute meditation will improve math test scores for teenagers\n",
    "\n",
    "# Correlational Research Question\n",
    "    # Null Hypotheses: There is no relationship between parental income and GPA of student\n",
    "    # Alternative Hypotheses: Parental income and GPA of student are positively correlated\n",
    "\n",
    "# Determine strategy for research design: descriptive, correlational, or experimental design?\n",
    "    # Experimental Design: Access a causal relationship using statistical test of comparison or regression\n",
    "    # Correlational Design: Explore relationships between variable using correlation coefficient and significance testing\n",
    "    # Descriptive Design: Study characteristics of population using statistical tests to draw inference from sample data\n",
    "# Is it a group level or individual level or both?\n",
    "    # Between-subjects Design: Conduct group-level outcomes (e.g. those who meditate vs those who didn't meditate)\n",
    "    # Within-subjects Design: Compare measurement from participants who did both treatment (e.g. scores from before meditation and after meditation)\n",
    "    # Mixed Design: Both between-subjects and within-subjects (e.g. record scores before meditation and afr)"
   ]
  }
 ],
 "metadata": {
  "language_info": {
   "name": "python"
  },
  "orig_nbformat": 4
 },
 "nbformat": 4,
 "nbformat_minor": 2
}
